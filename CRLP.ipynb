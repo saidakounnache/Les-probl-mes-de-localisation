{
 "cells": [
  {
   "cell_type": "code",
   "execution_count": 1,
   "id": "04346ffb",
   "metadata": {},
   "outputs": [],
   "source": [
    "import numpy as np\n",
    "import matplotlib.pyplot as plt"
   ]
  },
  {
   "cell_type": "code",
   "execution_count": 2,
   "id": "49ff48e9",
   "metadata": {},
   "outputs": [],
   "source": [
    "rnd = np.random\n",
    "rnd.seed(4)"
   ]
  },
  {
   "cell_type": "code",
   "execution_count": 3,
   "id": "9dc65989",
   "metadata": {},
   "outputs": [],
   "source": [
    "n = 10\n",
    "xc = rnd.rand(n+1)*200\n",
    "yc = rnd.rand(n+1)*100"
   ]
  },
  {
   "cell_type": "code",
   "execution_count": 4,
   "id": "cdfe9e27",
   "metadata": {},
   "outputs": [
    {
     "data": {
      "text/plain": [
       "<matplotlib.collections.PathCollection at 0x8a1b4a42e8>"
      ]
     },
     "execution_count": 4,
     "metadata": {},
     "output_type": "execute_result"
    },
    {
     "data": {
      "image/png": "[encoded data removed]",
      "text/plain": [
       "<Figure size 432x288 with 1 Axes>"
      ]
     },
     "metadata": {
      "needs_background": "light"
     },
     "output_type": "display_data"
    }
   ],
   "source": [
    "plt.plot(xc[0],yc[0],c='r',marker='s')\n",
    "plt.scatter(xc[1:],yc[1:],c='b')"
   ]
  },
  {
   "cell_type": "code",
   "execution_count": 5,
   "id": "25457c6f",
   "metadata": {},
   "outputs": [],
   "source": [
    "N = [i for i in range(1,n+1)]\n",
    "V = [0] + N\n",
    "A = [(i,j) for i in V for j in V if i!=j]\n",
    "c = {(i,j): np.hypot(xc[i]-xc[j],yc[i]-yc[j]) for i,j in A}\n",
    "Q = 20\n",
    "q = {i: rnd.randint(1,10) for i in N}"
   ]
  },
  {
   "cell_type": "code",
   "execution_count": 6,
   "id": "7b141036",
   "metadata": {},
   "outputs": [],
   "source": [
    "from gurobipy import Model, GRB, quicksum"
   ]
  },
  {
   "cell_type": "code",
   "execution_count": 7,
   "id": "e0b81b6f",
   "metadata": {},
   "outputs": [
    {
     "name": "stdout",
     "output_type": "stream",
     "text": [
      "Set parameter Username\n",
      "Academic license - for non-commercial use only - expires 2022-05-28\n"
     ]
    }
   ],
   "source": [
    "mdl =Model('CVRP')"
   ]
  },
  {
   "cell_type": "code",
   "execution_count": 8,
   "id": "c38c29af",
   "metadata": {},
   "outputs": [],
   "source": [
    "x = mdl.addVars(A, vtype=GRB.BINARY)\n",
    "u = mdl.addVars(N, vtype=GRB.CONTINUOUS)"
   ]
  },
  {
   "cell_type": "code",
   "execution_count": 9,
   "id": "b5e8643f",
   "metadata": {},
   "outputs": [],
   "source": [
    "mdl.modelSense = GRB.MINIMIZE\n",
    "mdl.setObjective(quicksum(x[i,j]*c[i,j] for i,j in A ))"
   ]
  },
  {
   "cell_type": "code",
   "execution_count": 10,
   "id": "f4e2c3d3",
   "metadata": {},
   "outputs": [],
   "source": [
    "mdl.addConstrs(quicksum(x[i,j] for j in V if j!=i)==1 for i in N);\n",
    "mdl.addConstrs(quicksum(x[i,j] for i in V if i!=j)==1 for j in N);\n",
    "mdl.addConstrs((x[i,j]==1) >> (u[i]+q[i]==u[j]) for i,j in A if i!=0 and j!=0);\n",
    "mdl.addConstrs(u[i]>=q[i] for i in N);\n",
    "mdl.addConstrs(u[i]<=Q for i in N);"
   ]
  },
  {
   "cell_type": "code",
   "execution_count": 11,
   "id": "a453dd6c",
   "metadata": {},
   "outputs": [
    {
     "name": "stdout",
     "output_type": "stream",
     "text": [
      "Set parameter MIPGap to value 0.1\n",
      "No parameters matching 'Timelimite' found\n",
      "Gurobi Optimizer version 9.5.1 build v9.5.1rc2 (win64)\n",
      "Thread count: 2 physical cores, 4 logical processors, using up to 4 threads\n",
      "Optimize a model with 40 rows, 120 columns and 220 nonzeros\n",
      "Model fingerprint: 0x754c04c9\n",
      "Model has 90 general constraints\n",
      "Variable types: 10 continuous, 110 integer (110 binary)\n",
      "Coefficient statistics:\n",
      "  Matrix range     [1e+00, 1e+00]\n",
      "  Objective range  [2e+01, 2e+02]\n",
      "  Bounds range     [1e+00, 1e+00]\n",
      "  RHS range        [1e+00, 2e+01]\n",
      "  GenCon rhs range [1e+00, 9e+00]\n",
      "  GenCon coe range [1e+00, 1e+00]\n",
      "Presolve added 162 rows and 4 columns\n",
      "Presolve time: 0.07s\n",
      "Presolved: 202 rows, 124 columns, 1265 nonzeros\n",
      "Variable types: 34 continuous, 90 integer (90 binary)\n",
      "Found heuristic solution: objective 1522.5235964\n",
      "\n",
      "Root relaxation: objective 5.585816e+02, 71 iterations, 0.01 seconds (0.00 work units)\n",
      "\n",
      "    Nodes    |    Current Node    |     Objective Bounds      |     Work\n",
      " Expl Unexpl |  Obj  Depth IntInf | Incumbent    BestBd   Gap | It/Node Time\n",
      "\n",
      "     0     0  558.58157    0   15 1522.52360  558.58157  63.3%     -    0s\n",
      "H    0     0                    1501.3890103  558.58157  62.8%     -    0s\n",
      "H    0     0                    1053.3962846  558.58157  47.0%     -    0s\n",
      "H    0     0                     819.2420972  558.58157  31.8%     -    0s\n",
      "     0     0  559.75899    0   24  819.24210  559.75899  31.7%     -    0s\n",
      "     0     0  560.72960    0   15  819.24210  560.72960  31.6%     -    0s\n",
      "     0     0  560.72960    0   15  819.24210  560.72960  31.6%     -    0s\n",
      "     0     0  562.10434    0   23  819.24210  562.10434  31.4%     -    0s\n",
      "H    0     0                     780.8733532  562.10434  28.0%     -    0s\n",
      "     0     0  562.10434    0   23  780.87335  562.10434  28.0%     -    0s\n",
      "     0     0  562.20171    0   21  780.87335  562.20171  28.0%     -    0s\n",
      "     0     0  562.24276    0   22  780.87335  562.24276  28.0%     -    0s\n",
      "     0     0  563.54676    0   26  780.87335  563.54676  27.8%     -    0s\n",
      "     0     0  563.86878    0   26  780.87335  563.86878  27.8%     -    0s\n",
      "     0     0  563.97945    0   25  780.87335  563.97945  27.8%     -    0s\n",
      "     0     0  563.97945    0   25  780.87335  563.97945  27.8%     -    0s\n",
      "     0     0  563.97945    0   25  780.87335  563.97945  27.8%     -    0s\n",
      "     0     0  563.97945    0   25  780.87335  563.97945  27.8%     -    0s\n",
      "     0     0  563.97945    0   25  780.87335  563.97945  27.8%     -    0s\n",
      "H    0     0                     768.6920737  563.97945  26.6%     -    0s\n",
      "     0     2  564.11216    0   25  768.69207  564.11216  26.6%     -    0s\n",
      "*   15    18               7     733.0880304  567.99955  22.5%  12.5    0s\n",
      "\n",
      "Cutting planes:\n",
      "  Learned: 2\n",
      "  Gomory: 8\n",
      "  Cover: 2\n",
      "  Implied bound: 8\n",
      "  MIR: 13\n",
      "  Zero half: 2\n",
      "  Relax-and-lift: 6\n",
      "\n",
      "Explored 613 nodes (6931 simplex iterations) in 1.45 seconds (0.19 work units)\n",
      "Thread count was 4 (of 4 available processors)\n",
      "\n",
      "Solution count 7: 733.088 768.692 780.873 ... 1522.52\n",
      "\n",
      "Optimal solution found (tolerance 1.00e-01)\n",
      "Best objective 7.330880303555e+02, best bound 6.739485683076e+02, gap 8.0672%\n"
     ]
    }
   ],
   "source": [
    "mdl.Params.MipGap = 0.1\n",
    "mdl.Params.Timelimite = 30 # seconds\n",
    "mdl.optimize()"
   ]
  },
  {
   "cell_type": "code",
   "execution_count": 12,
   "id": "09eb3a3e",
   "metadata": {},
   "outputs": [],
   "source": [
    "active_arcs = [a for a in A if x[a].x>0.99]"
   ]
  },
  {
   "cell_type": "code",
   "execution_count": 13,
   "id": "dd52aa8a",
   "metadata": {},
   "outputs": [
    {
     "data": {
      "image/png": "[encoded data removed]",
      "text/plain": [
       "<Figure size 432x288 with 1 Axes>"
      ]
     },
     "metadata": {
      "needs_background": "light"
     },
     "output_type": "display_data"
    }
   ],
   "source": [
    "plt.plot(xc[0],yc[0],c='r',marker='s')\n",
    "plt.scatter(xc[1:],yc[1:],c='b')\n",
    "for i,j in active_arcs:\n",
    "    plt.plot([xc[i],xc[j]],[yc[i],yc[j]],c='g',zorder=0)"
   ]
  },
  {
   "cell_type": "code",
   "execution_count": null,
   "id": "2a2a783f",
   "metadata": {},
   "outputs": [],
   "source": []
  }
 ],
 "metadata": {
  "kernelspec": {
   "display_name": "Python 3 (ipykernel)",
   "language": "python",
   "name": "python3"
  },
  "language_info": {
   "codemirror_mode": {
    "name": "ipython",
    "version": 3
   },
   "file_extension": ".py",
   "mimetype": "text/x-python",
   "name": "python",
   "nbconvert_exporter": "python",
   "pygments_lexer": "ipython3",
   "version": "3.7.3"
  }
 },
 "nbformat": 4,
 "nbformat_minor": 5
}
