{
 "cells": [
  {
   "cell_type": "code",
   "execution_count": 1,
   "id": "25f7411b",
   "metadata": {},
   "outputs": [],
   "source": [
    "import numpy as np\n",
    "import random\n",
    "from itertools import product\n",
    "from math import sqrt\n",
    "import gurobipy as gp\n",
    "from gurobipy import GRB\n",
    "import matplotlib.pyplot as plt\n",
    "rnd = np.random\n",
    "rnd.seed(42) # Change seed value to randomise\n",
    "# parameter\n",
    "    \n",
    "customers = [(0,1.5),(2.5,1.2)]\n",
    "facilities = [(0,0),(0,1),(1,0),(1,1),(1,2),(2,0),(2,1),(2,2)]\n",
    "setup_cost =  [20,20,20,20,20,20,20,20,20] #[3,2,3,1,3,3,4,3,2]\n",
    "cost_per_mile = 1"
   ]
  },
  {
   "cell_type": "code",
   "execution_count": 2,
   "id": "73394ca9",
   "metadata": {},
   "outputs": [],
   "source": [
    "xc = [0,2.5]\n",
    "yc = [1.5,1.2]\n",
    "xf = [0,0,1,1,1,2,2,2]\n",
    "yf = [0,1,0,1,2,0,1,2]"
   ]
  },
  {
   "cell_type": "code",
   "execution_count": 3,
   "id": "aaf81bd1",
   "metadata": {},
   "outputs": [
    {
     "data": {
      "image/png": "[encoded data removed]",
      "text/plain": [
       "<Figure size 432x288 with 1 Axes>"
      ]
     },
     "metadata": {
      "needs_background": "light"
     },
     "output_type": "display_data"
    }
   ],
   "source": [
    "plt.scatter(xc[0:], yc[0:], c='b', label = 'Customer') # Customer\n",
    "plt.scatter(xf[0:], yf[0:], c='r', marker='s', label = 'Facility') # Facility\n",
    "plt.legend()\n",
    "plt.show();"
   ]
  },
  {
   "cell_type": "code",
   "execution_count": 4,
   "id": "76c5b699",
   "metadata": {},
   "outputs": [],
   "source": [
    "I = [c for c in xc] # Customer \n",
    "J = [f for f in yc] # Facility\n",
    "A = [(c, f) for c in I for f in J]"
   ]
  },
  {
   "cell_type": "code",
   "execution_count": 5,
   "id": "7b8ac59b",
   "metadata": {},
   "outputs": [],
   "source": [
    "# this function determines the euclidean distance between a facility and customer sites\n",
    "def compute_distance(loc1, loc2):\n",
    "    dx = loc1[0] - loc2[0]\n",
    "    dy = loc1[1] - loc2[1]\n",
    "    return sqrt(dx*dx + dy*dy)\n",
    "# cumpte key parameters of MIP model formulation\n",
    "num_facilities = len(facilities)\n",
    "num_customers = len(customers)\n",
    "cartesian_prod = list(product(range(num_customers), range(num_facilities)))\n",
    "# cumpte shipping costs\n",
    "shipping_cost = {(c,f): cost_per_mile*compute_distance(customers[c], facilities[f]) for c, f in cartesian_prod}"
   ]
  },
  {
   "cell_type": "code",
   "execution_count": 6,
   "id": "05c03a7a",
   "metadata": {},
   "outputs": [
    {
     "name": "stdout",
     "output_type": "stream",
     "text": [
      "Set parameter Username\n",
      "\n",
      "--------------------------------------------\n",
      "Warning: your license will expire in 14 days\n",
      "--------------------------------------------\n",
      "\n",
      "Academic license - for non-commercial use only - expires 2022-05-28\n",
      "Gurobi Optimizer version 9.5.1 build v9.5.1rc2 (win64)\n",
      "Thread count: 2 physical cores, 4 logical processors, using up to 4 threads\n",
      "Optimize a model with 18 rows, 24 columns and 48 nonzeros\n",
      "Model fingerprint: 0x858306eb\n",
      "Variable types: 16 continuous, 8 integer (8 binary)\n",
      "Coefficient statistics:\n",
      "  Matrix range     [1e+00, 1e+00]\n",
      "  Objective range  [5e-01, 2e+01]\n",
      "  Bounds range     [1e+00, 1e+00]\n",
      "  RHS range        [1e+00, 1e+00]\n",
      "Presolve time: 0.00s\n",
      "Presolved: 18 rows, 24 columns, 48 nonzeros\n",
      "Variable types: 16 continuous, 8 integer (8 binary)\n",
      "Found heuristic solution: objective 41.0385165\n",
      "\n",
      "Root relaxation: objective 2.260007e+01, 15 iterations, 0.00 seconds (0.00 work units)\n",
      "\n",
      "    Nodes    |    Current Node    |     Objective Bounds      |     Work\n",
      " Expl Unexpl |  Obj  Depth IntInf | Incumbent    BestBd   Gap | It/Node Time\n",
      "\n",
      "*    0     0               0      22.6000693   22.60007  0.00%     -    0s\n",
      "\n",
      "Explored 1 nodes (15 simplex iterations) in 0.11 seconds (0.00 work units)\n",
      "Thread count was 4 (of 4 available processors)\n",
      "\n",
      "Solution count 2: 22.6001 41.0385 \n",
      "\n",
      "Optimal solution found (tolerance 1.00e-04)\n",
      "Best objective 2.260006929352e+01, best bound 2.260006929352e+01, gap 0.0000%\n"
     ]
    }
   ],
   "source": [
    "# MIP model foemulation \n",
    "m = gp.Model('facility_location')\n",
    "select = m.addVars(num_facilities, vtype=GRB.BINARY, name='Select')\n",
    "assing = m.addVars(cartesian_prod, ub=1, vtype=GRB.CONTINUOUS, name='Assing')\n",
    "m.addConstrs((assing[(c,f)] <= select[f] for c,f in cartesian_prod), name='Setup2ship')\n",
    "m.addConstrs((gp.quicksum(assing[(c,f)] for f in range(num_facilities))==1 for c in range(num_customers)), name='Demand')\n",
    "m.setObjective(select.prod(setup_cost)+assing.prod(shipping_cost), GRB.MINIMIZE)\n",
    "m.optimize()"
   ]
  },
  {
   "cell_type": "code",
   "execution_count": 7,
   "id": "51880f4b",
   "metadata": {},
   "outputs": [
    {
     "name": "stdout",
     "output_type": "stream",
     "text": [
      "\n",
      " n Build a warehouse at location 7.\n"
     ]
    }
   ],
   "source": [
    "for facility in select.keys():\n",
    "    if(abs(select[facility].x) > 1e-6):\n",
    "        print(f\"\\n n Build a warehouse at location {facility +1}.\")"
   ]
  },
  {
   "cell_type": "code",
   "execution_count": 8,
   "id": "d6e22814",
   "metadata": {},
   "outputs": [
    {
     "name": "stdout",
     "output_type": "stream",
     "text": [
      "\n",
      " Supermarket 1 receives 100.0 % of its demand from warehouse at location 7.\n",
      "\n",
      " Supermarket 2 receives 100.0 % of its demand from warehouse at location 7.\n"
     ]
    }
   ],
   "source": [
    "for customer, facility in assing.keys():\n",
    "    if(abs(assing[customer,facility].x) > 1e-6):\n",
    "        print(f\"\\n Supermarket {customer +1} receives {round(100*assing[customer,facility].x, 2)} % of its demand from warehouse at location {facility +1}.\")"
   ]
  },
  {
   "cell_type": "code",
   "execution_count": 9,
   "id": "4f4564d0",
   "metadata": {},
   "outputs": [],
   "source": [
    "assignment = [a for a in cartesian_prod if assing[a].X > 0.0 ]"
   ]
  },
  {
   "cell_type": "code",
   "execution_count": 10,
   "id": "89030333",
   "metadata": {},
   "outputs": [
    {
     "data": {
      "image/png": "[encoded data removed]",
      "text/plain": [
       "<Figure size 432x288 with 1 Axes>"
      ]
     },
     "metadata": {
      "needs_background": "light"
     },
     "output_type": "display_data"
    }
   ],
   "source": [
    "for c, f in assignment:\n",
    "    plt.plot([xc[c], xf[f]], [yc[c], yf[f]], c='g', zorder=0)\n",
    "plt.scatter(xc[0:], yc[0:], c='b', label = 'Customer')\n",
    "plt.scatter(xf[0:], yf[0:], c='r',marker='s', label = 'Facility')\n",
    "plt.legend()\n",
    "plt.show();"
   ]
  },
  {
   "cell_type": "code",
   "execution_count": null,
   "id": "1e077bd3",
   "metadata": {},
   "outputs": [],
   "source": []
  }
 ],
 "metadata": {
  "kernelspec": {
   "display_name": "Python 3 (ipykernel)",
   "language": "python",
   "name": "python3"
  },
  "language_info": {
   "codemirror_mode": {
    "name": "ipython",
    "version": 3
   },
   "file_extension": ".py",
   "mimetype": "text/x-python",
   "name": "python",
   "nbconvert_exporter": "python",
   "pygments_lexer": "ipython3",
   "version": "3.7.3"
  }
 },
 "nbformat": 4,
 "nbformat_minor": 5
}
