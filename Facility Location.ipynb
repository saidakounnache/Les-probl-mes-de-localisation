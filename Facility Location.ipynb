{
 "cells": [
  {
   "cell_type": "code",
   "execution_count": 1,
   "id": "1406b448",
   "metadata": {},
   "outputs": [
    {
     "name": "stdout",
     "output_type": "stream",
     "text": [
      "First customer location: (0.33164437091949245, -0.2809884943538464)\n"
     ]
    }
   ],
   "source": [
    "%matplotlib inline\n",
    "import random\n",
    "import gurobipy as gp\n",
    "from gurobipy import GRB\n",
    "import matplotlib.pyplot as plt\n",
    "import numpy as np\n",
    "from sklearn.cluster import MiniBatchKMeans\n",
    "# Tested with Gurobi v9.0.0 and Python 3.7.0\n",
    "seed = 10101\n",
    "num_customers = 50\n",
    "num_candidates = 25\n",
    "max_facilities = 8\n",
    "num_clusters = 10\n",
    "num_gaussians = 10  #10\n",
    "threshold = 0.99\n",
    "\n",
    "random.seed(seed)\n",
    "customers_per_gaussian = np.random.multinomial(num_customers,\n",
    "                                               [1/num_gaussians]*num_gaussians)\n",
    "customer_locs = []\n",
    "for i in range(num_gaussians):\n",
    "    # each center coordinate in [-0.5, 0.5]\n",
    "    center = (random.random()-0.5, random.random()-0.5)\n",
    "    customer_locs += [(random.gauss(0,.1) + center[0], random.gauss(0,.1) + center[1])\n",
    "                  for i in range(customers_per_gaussian[i])]\n",
    "# each candidate coordinate in [-0.5, 0.5]\n",
    "facility_locs = [(random.random()-0.5, random.random()-0.5)\n",
    "              for i in range(num_candidates)]\n",
    "print('First customer location:', customer_locs[0])"
   ]
  },
  {
   "cell_type": "code",
   "execution_count": 2,
   "id": "70dbab23",
   "metadata": {},
   "outputs": [
    {
     "name": "stdout",
     "output_type": "stream",
     "text": [
      "First cluster center: [ 0.4621616  -0.05705097]\n",
      "Weights for first 10 clusters: [3, 4, 6, 6, 8, 4, 3, 8, 3, 5]\n"
     ]
    }
   ],
   "source": [
    "kmeans = MiniBatchKMeans(n_clusters=num_clusters, init_size=3*num_clusters,\n",
    "                         random_state=seed).fit(customer_locs)\n",
    "memberships = list(kmeans.labels_)\n",
    "centroids = list(kmeans.cluster_centers_) # Center point for each cluster\n",
    "weights = list(np.histogram(memberships, bins=num_clusters)[0]) # Number of customers in each cluster\n",
    "print('First cluster center:', centroids[0])\n",
    "print('Weights for first 10 clusters:', weights[:10])"
   ]
  },
  {
   "cell_type": "code",
   "execution_count": 3,
   "id": "e131f5bf",
   "metadata": {},
   "outputs": [
    {
     "name": "stdout",
     "output_type": "stream",
     "text": [
      "Number of viable pairings: 242\n"
     ]
    }
   ],
   "source": [
    "def dist(loc1, loc2):\n",
    "    return np.linalg.norm(loc1-loc2, ord=2) # Euclidean distance\n",
    "\n",
    "pairings = {(facility, cluster): dist(facility_locs[facility], centroids[cluster])\n",
    "            for facility in range(num_candidates)\n",
    "            for cluster in range(num_clusters) \n",
    "            if  dist(facility_locs[facility], centroids[cluster]) < threshold}\n",
    "print(\"Number of viable pairings: {0}\".format(len(pairings.keys())))"
   ]
  },
  {
   "cell_type": "code",
   "execution_count": 4,
   "id": "a91675a5",
   "metadata": {},
   "outputs": [
    {
     "name": "stdout",
     "output_type": "stream",
     "text": [
      "Set parameter Username\n"
     ]
    },
    {
     "ename": "GurobiError",
     "evalue": "License expired 2022-05-28",
     "output_type": "error",
     "traceback": [
      "\u001b[1;31m---------------------------------------------------------------------------\u001b[0m",
      "\u001b[1;31mGurobiError\u001b[0m                               Traceback (most recent call last)",
      "\u001b[1;32m~\\AppData\\Local\\Temp\\ipykernel_4436\\4231402613.py\u001b[0m in \u001b[0;36m<module>\u001b[1;34m\u001b[0m\n\u001b[1;32m----> 1\u001b[1;33m \u001b[0mm\u001b[0m \u001b[1;33m=\u001b[0m \u001b[0mgp\u001b[0m\u001b[1;33m.\u001b[0m\u001b[0mModel\u001b[0m\u001b[1;33m(\u001b[0m\u001b[1;34m\"Facility location\"\u001b[0m\u001b[1;33m)\u001b[0m\u001b[1;33m\u001b[0m\u001b[1;33m\u001b[0m\u001b[0m\n\u001b[0m\u001b[0;32m      2\u001b[0m \u001b[1;33m\u001b[0m\u001b[0m\n\u001b[0;32m      3\u001b[0m \u001b[1;31m# Decision variables: select facility locations\u001b[0m\u001b[1;33m\u001b[0m\u001b[1;33m\u001b[0m\u001b[1;33m\u001b[0m\u001b[0m\n\u001b[0;32m      4\u001b[0m \u001b[0mselect\u001b[0m \u001b[1;33m=\u001b[0m \u001b[0mm\u001b[0m\u001b[1;33m.\u001b[0m\u001b[0maddVars\u001b[0m\u001b[1;33m(\u001b[0m\u001b[0mrange\u001b[0m\u001b[1;33m(\u001b[0m\u001b[0mnum_candidates\u001b[0m\u001b[1;33m)\u001b[0m\u001b[1;33m,\u001b[0m \u001b[0mvtype\u001b[0m\u001b[1;33m=\u001b[0m\u001b[0mGRB\u001b[0m\u001b[1;33m.\u001b[0m\u001b[0mBINARY\u001b[0m\u001b[1;33m,\u001b[0m \u001b[0mname\u001b[0m\u001b[1;33m=\u001b[0m\u001b[1;34m'select'\u001b[0m\u001b[1;33m)\u001b[0m\u001b[1;33m\u001b[0m\u001b[1;33m\u001b[0m\u001b[0m\n\u001b[0;32m      5\u001b[0m \u001b[1;31m# Decision variables: assign customer clusters to a facility location\u001b[0m\u001b[1;33m\u001b[0m\u001b[1;33m\u001b[0m\u001b[1;33m\u001b[0m\u001b[0m\n",
      "\u001b[1;32msrc\\gurobipy\\model.pxi\u001b[0m in \u001b[0;36mgurobipy.Model.__init__\u001b[1;34m()\u001b[0m\n",
      "\u001b[1;32msrc\\gurobipy\\gurobi.pxi\u001b[0m in \u001b[0;36mgurobipy.gurobi._getdefaultenv\u001b[1;34m()\u001b[0m\n",
      "\u001b[1;32msrc\\gurobipy\\env.pxi\u001b[0m in \u001b[0;36mgurobipy.Env.__init__\u001b[1;34m()\u001b[0m\n",
      "\u001b[1;31mGurobiError\u001b[0m: License expired 2022-05-28"
     ]
    }
   ],
   "source": [
    "m = gp.Model(\"Facility location\")\n",
    "\n",
    "# Decision variables: select facility locations\n",
    "select = m.addVars(range(num_candidates), vtype=GRB.BINARY, name='select')\n",
    "# Decision variables: assign customer clusters to a facility location\n",
    "assign = m.addVars(pairings.keys(), vtype=GRB.BINARY, name='assign')\n",
    "\n",
    "# Deploy Objective Function\n",
    "# 0. Total distance\n",
    "obj = gp.quicksum(weights[cluster]\n",
    "               *pairings[facility, cluster]\n",
    "               *assign[facility, cluster]\n",
    "               for facility, cluster in pairings.keys())\n",
    "m.setObjective(obj, GRB.MINIMIZE)\n",
    "\n",
    "# 1. Facility limit\n",
    "m.addConstr(select.sum() <= max_facilities, name=\"Facility_limit\")\n",
    "\n",
    "# 2. Open to assign\n",
    "m.addConstrs((assign[facility, cluster] <= select[facility]\n",
    "             for facility, cluster in pairings.keys()),\n",
    "            name=\"Open2assign\")\n",
    "\n",
    "# 3. Closest store\n",
    "m.addConstrs((assign.sum('*', cluster) == 1\n",
    "             for cluster in range(num_clusters)),\n",
    "            name=\"Closest_store\")\n",
    "\n",
    "# Find the optimal solution\n",
    "m.optimize()"
   ]
  },
  {
   "cell_type": "code",
   "execution_count": null,
   "id": "4ffe8333",
   "metadata": {},
   "outputs": [],
   "source": [
    "fig=plt.subplots(figsize=(10,10))\n",
    "plt.scatter(*zip(*customer_locs), c='Pink', s=10)\n",
    "plt.scatter(*zip(*centroids), c='Red', s=10)\n",
    "plt.scatter(*zip(*facility_locs), c='Green', s=10)\n",
    "assignments = [p for p in pairings if assign[p].x > 0.5]\n",
    "for p in assignments:\n",
    "    pts = [facility_locs[p[0]], centroids[p[1]]]\n",
    "    plt.plot(*zip(*pts), c='Black', linewidth=0.5)"
   ]
  },
  {
   "cell_type": "code",
   "execution_count": null,
   "id": "4e8d76a5",
   "metadata": {},
   "outputs": [],
   "source": []
  }
 ],
 "metadata": {
  "kernelspec": {
   "display_name": "Python 3 (ipykernel)",
   "language": "python",
   "name": "python3"
  },
  "language_info": {
   "codemirror_mode": {
    "name": "ipython",
    "version": 3
   },
   "file_extension": ".py",
   "mimetype": "text/x-python",
   "name": "python",
   "nbconvert_exporter": "python",
   "pygments_lexer": "ipython3",
   "version": "3.7.3"
  }
 },
 "nbformat": 4,
 "nbformat_minor": 5
}
